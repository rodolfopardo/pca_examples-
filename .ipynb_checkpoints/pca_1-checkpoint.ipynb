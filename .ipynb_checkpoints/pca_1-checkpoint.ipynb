{
 "cells": [
  {
   "cell_type": "code",
   "execution_count": 2,
   "metadata": {},
   "outputs": [],
   "source": [
    "#Importando librerias \n",
    "\n",
    "import pandas as pd \n",
    "import numpy as np \n",
    "import matplotlib.pyplot as plt\n",
    "from sklearn.preprocessing import StandardScaler, MinMaxScaler\n",
    "from sklearn.decomposition import PCA"
   ]
  },
  {
   "cell_type": "code",
   "execution_count": 3,
   "metadata": {},
   "outputs": [],
   "source": [
    "#Leemos los csv necesarios\n",
    "\n",
    "cancer = pd.read_csv('breast-cancer.csv')\n",
    "ocup = pd.read_csv('occupancy.csv')\n",
    "pstars = pd.read_csv('pulsar_stars.csv')"
   ]
  },
  {
   "cell_type": "code",
   "execution_count": 4,
   "metadata": {},
   "outputs": [],
   "source": [
    "#Eliminamos columnas object de nuestro dataframe\n",
    "\n",
    "cancer = cancer.drop(columns = ['N', '5.1'])\n",
    "ocup = ocup.drop(columns = ['date'])\n",
    "pstars = pstars.drop(columns = ['target_class'])"
   ]
  },
  {
   "cell_type": "code",
   "execution_count": 5,
   "metadata": {},
   "outputs": [
    {
     "name": "stdout",
     "output_type": "stream",
     "text": [
      "(197, 33)\n",
      "(2664, 6)\n",
      "(17898, 8)\n"
     ]
    }
   ],
   "source": [
    "#Conocemos las dimensiones de nuestro dataframe\n",
    "\n",
    "print(cancer.shape)\n",
    "print(ocup.shape)\n",
    "print(pstars.shape)"
   ]
  },
  {
   "cell_type": "code",
   "execution_count": 10,
   "metadata": {},
   "outputs": [],
   "source": [
    "def normaliza(df): #funcion encargada de normalizar las bases \n",
    "    scaler = StandardScaler()\n",
    "    df = scaler.fit_transform(df)\n",
    "    return df \n",
    "\n",
    "def scale_and_plot(df):  #funcion encargada de escalar y plotear\n",
    "    pca = PCA()\n",
    "    pca.fit(df)\n",
    "    pca.explained_variance_ratio_\n",
    "    plt.figure()\n",
    "    plt.plot(np.cumsum(pca.explained_variance_ratio_), )\n",
    "    plt.xlabel('Numero de componentes')\n",
    "    plt.ylabel('% de variación')\n",
    "    plt.ylim([0,1])\n",
    "    plt.show();\n",
    "    return df"
   ]
  },
  {
   "cell_type": "code",
   "execution_count": 11,
   "metadata": {},
   "outputs": [],
   "source": [
    "#Se llaman a las funciones  \n",
    "ocup_norm = normaliza(ocup)\n",
    "pstars_norm = normaliza(pstars)\n",
    "cancer_norm = normaliza(cancer)"
   ]
  },
  {
   "cell_type": "code",
   "execution_count": 13,
   "metadata": {},
   "outputs": [
    {
     "data": {
      "image/png": "[encoded data removed]",
      "text/plain": [
       "<Figure size 432x288 with 1 Axes>"
      ]
     },
     "metadata": {
      "needs_background": "light"
     },
     "output_type": "display_data"
    },
    {
     "data": {
      "image/png": "[encoded data removed]",
      "text/plain": [
       "<Figure size 432x288 with 1 Axes>"
      ]
     },
     "metadata": {
      "needs_background": "light"
     },
     "output_type": "display_data"
    },
    {
     "data": {
      "image/png": "[encoded data removed]",
      "text/plain": [
       "<Figure size 432x288 with 1 Axes>"
      ]
     },
     "metadata": {
      "needs_background": "light"
     },
     "output_type": "display_data"
    }
   ],
   "source": [
    "#Se llaman a las funciones \n",
    "ocup_scale = scale_and_plot(ocup_norm)\n",
    "pstars_scale = scale_and_plot(pstars_norm)\n",
    "cancer_scale = scale_and_plot(cancer_norm)"
   ]
  },
  {
   "cell_type": "markdown",
   "metadata": {},
   "source": [
    "En el primer gráfico podemos observar que hasta 4 componentes no perdemos datos en la base occupancy."
   ]
  },
  {
   "cell_type": "markdown",
   "metadata": {},
   "source": [
    "En este gráfico, podemos observar que hasta 5 componentes no perdemos datos en la base correspondiente a pstars."
   ]
  },
  {
   "cell_type": "markdown",
   "metadata": {},
   "source": [
    "En este gráfico, podemos observar que hasta 20 componentes no se pierden datos de nuestro dataframe cancer."
   ]
  },
  {
   "cell_type": "code",
   "execution_count": 15,
   "metadata": {},
   "outputs": [],
   "source": [
    "#Ejecutando PCA en dataframe ocup\n",
    "\n",
    "pca = PCA(n_components=4)\n",
    "ocup = pd.DataFrame(pca.fit_transform(ocup_scale))"
   ]
  },
  {
   "cell_type": "code",
   "execution_count": 16,
   "metadata": {},
   "outputs": [
    {
     "data": {
      "text/html": [
       "<div>\n",
       "<style scoped>\n",
       "    .dataframe tbody tr th:only-of-type {\n",
       "        vertical-align: middle;\n",
       "    }\n",
       "\n",
       "    .dataframe tbody tr th {\n",
       "        vertical-align: top;\n",
       "    }\n",
       "\n",
       "    .dataframe thead th {\n",
       "        text-align: right;\n",
       "    }\n",
       "</style>\n",
       "<table border=\"1\" class=\"dataframe\">\n",
       "  <thead>\n",
       "    <tr style=\"text-align: right;\">\n",
       "      <th></th>\n",
       "      <th>0</th>\n",
       "      <th>1</th>\n",
       "      <th>2</th>\n",
       "      <th>3</th>\n",
       "    </tr>\n",
       "  </thead>\n",
       "  <tbody>\n",
       "    <tr>\n",
       "      <th>0</th>\n",
       "      <td>2.738551</td>\n",
       "      <td>0.934158</td>\n",
       "      <td>1.162847</td>\n",
       "      <td>-0.508716</td>\n",
       "    </tr>\n",
       "    <tr>\n",
       "      <th>1</th>\n",
       "      <td>2.760848</td>\n",
       "      <td>0.903007</td>\n",
       "      <td>1.171506</td>\n",
       "      <td>-0.519375</td>\n",
       "    </tr>\n",
       "    <tr>\n",
       "      <th>2</th>\n",
       "      <td>2.755592</td>\n",
       "      <td>0.900206</td>\n",
       "      <td>1.189106</td>\n",
       "      <td>-0.525777</td>\n",
       "    </tr>\n",
       "    <tr>\n",
       "      <th>3</th>\n",
       "      <td>2.605885</td>\n",
       "      <td>0.749794</td>\n",
       "      <td>1.196634</td>\n",
       "      <td>-0.716264</td>\n",
       "    </tr>\n",
       "    <tr>\n",
       "      <th>4</th>\n",
       "      <td>2.645078</td>\n",
       "      <td>0.706934</td>\n",
       "      <td>1.208032</td>\n",
       "      <td>-0.736119</td>\n",
       "    </tr>\n",
       "  </tbody>\n",
       "</table>\n",
       "</div>"
      ],
      "text/plain": [
       "          0         1         2         3\n",
       "0  2.738551  0.934158  1.162847 -0.508716\n",
       "1  2.760848  0.903007  1.171506 -0.519375\n",
       "2  2.755592  0.900206  1.189106 -0.525777\n",
       "3  2.605885  0.749794  1.196634 -0.716264\n",
       "4  2.645078  0.706934  1.208032 -0.736119"
      ]
     },
     "execution_count": 16,
     "metadata": {},
     "output_type": "execute_result"
    }
   ],
   "source": [
    "#Vemos los primeros valores\n",
    "\n",
    "ocup.head()"
   ]
  },
  {
   "cell_type": "code",
   "execution_count": 17,
   "metadata": {},
   "outputs": [
    {
     "data": {
      "text/plain": [
       "(2664, 4)"
      ]
     },
     "execution_count": 17,
     "metadata": {},
     "output_type": "execute_result"
    }
   ],
   "source": [
    "#Vemos su forma final \n",
    "\n",
    "ocup.shape"
   ]
  },
  {
   "cell_type": "markdown",
   "metadata": {},
   "source": [
    "#### <font color=\"red\">Pasamos de un dataframe de 6 columnas a 4 columnas con las combinaciones necesarias para no perder datos"
   ]
  },
  {
   "cell_type": "code",
   "execution_count": 18,
   "metadata": {},
   "outputs": [],
   "source": [
    "#Ejecutando pca con pstars \n",
    "\n",
    "pca = PCA(n_components = 6)\n",
    "pstars = pd.DataFrame(pca.fit_transform(pstars_scale))"
   ]
  },
  {
   "cell_type": "code",
   "execution_count": 19,
   "metadata": {},
   "outputs": [
    {
     "data": {
      "text/html": [
       "<div>\n",
       "<style scoped>\n",
       "    .dataframe tbody tr th:only-of-type {\n",
       "        vertical-align: middle;\n",
       "    }\n",
       "\n",
       "    .dataframe tbody tr th {\n",
       "        vertical-align: top;\n",
       "    }\n",
       "\n",
       "    .dataframe thead th {\n",
       "        text-align: right;\n",
       "    }\n",
       "</style>\n",
       "<table border=\"1\" class=\"dataframe\">\n",
       "  <thead>\n",
       "    <tr style=\"text-align: right;\">\n",
       "      <th></th>\n",
       "      <th>0</th>\n",
       "      <th>1</th>\n",
       "      <th>2</th>\n",
       "      <th>3</th>\n",
       "      <th>4</th>\n",
       "      <th>5</th>\n",
       "    </tr>\n",
       "  </thead>\n",
       "  <tbody>\n",
       "    <tr>\n",
       "      <th>0</th>\n",
       "      <td>-1.278849</td>\n",
       "      <td>-1.273133</td>\n",
       "      <td>0.016213</td>\n",
       "      <td>0.662102</td>\n",
       "      <td>0.577362</td>\n",
       "      <td>0.100457</td>\n",
       "    </tr>\n",
       "    <tr>\n",
       "      <th>1</th>\n",
       "      <td>-1.020553</td>\n",
       "      <td>-0.201162</td>\n",
       "      <td>0.670478</td>\n",
       "      <td>1.605779</td>\n",
       "      <td>-0.390326</td>\n",
       "      <td>0.073633</td>\n",
       "    </tr>\n",
       "    <tr>\n",
       "      <th>2</th>\n",
       "      <td>0.188289</td>\n",
       "      <td>0.432114</td>\n",
       "      <td>-0.979766</td>\n",
       "      <td>-0.519232</td>\n",
       "      <td>-0.305346</td>\n",
       "      <td>0.138962</td>\n",
       "    </tr>\n",
       "    <tr>\n",
       "      <th>3</th>\n",
       "      <td>-1.015466</td>\n",
       "      <td>-1.469881</td>\n",
       "      <td>-0.018832</td>\n",
       "      <td>0.938386</td>\n",
       "      <td>0.495189</td>\n",
       "      <td>0.074270</td>\n",
       "    </tr>\n",
       "    <tr>\n",
       "      <th>4</th>\n",
       "      <td>-0.822626</td>\n",
       "      <td>2.123651</td>\n",
       "      <td>0.407953</td>\n",
       "      <td>-0.380922</td>\n",
       "      <td>-0.654083</td>\n",
       "      <td>0.024105</td>\n",
       "    </tr>\n",
       "  </tbody>\n",
       "</table>\n",
       "</div>"
      ],
      "text/plain": [
       "          0         1         2         3         4         5\n",
       "0 -1.278849 -1.273133  0.016213  0.662102  0.577362  0.100457\n",
       "1 -1.020553 -0.201162  0.670478  1.605779 -0.390326  0.073633\n",
       "2  0.188289  0.432114 -0.979766 -0.519232 -0.305346  0.138962\n",
       "3 -1.015466 -1.469881 -0.018832  0.938386  0.495189  0.074270\n",
       "4 -0.822626  2.123651  0.407953 -0.380922 -0.654083  0.024105"
      ]
     },
     "execution_count": 19,
     "metadata": {},
     "output_type": "execute_result"
    }
   ],
   "source": [
    "#Vemos el head de pstars\n",
    "pstars.head()"
   ]
  },
  {
   "cell_type": "code",
   "execution_count": 20,
   "metadata": {},
   "outputs": [
    {
     "data": {
      "text/plain": [
       "(17898, 6)"
      ]
     },
     "execution_count": 20,
     "metadata": {},
     "output_type": "execute_result"
    }
   ],
   "source": [
    "#Vemos el formato logrado\n",
    "pstars.shape"
   ]
  },
  {
   "cell_type": "markdown",
   "metadata": {},
   "source": [
    "#### <font color=red>Pasamos de un dataframe de 8 columnas a 6 columnas sin perder ningún dato"
   ]
  },
  {
   "cell_type": "code",
   "execution_count": 21,
   "metadata": {},
   "outputs": [],
   "source": [
    "#Ejecutamos pca en cancer "
   ]
  },
  {
   "cell_type": "code",
   "execution_count": 22,
   "metadata": {},
   "outputs": [],
   "source": [
    "pca = PCA(n_components = 20)\n",
    "cancer = pd.DataFrame(pca.fit_transform(cancer_scale))"
   ]
  },
  {
   "cell_type": "code",
   "execution_count": 23,
   "metadata": {},
   "outputs": [
    {
     "data": {
      "text/html": [
       "<div>\n",
       "<style scoped>\n",
       "    .dataframe tbody tr th:only-of-type {\n",
       "        vertical-align: middle;\n",
       "    }\n",
       "\n",
       "    .dataframe tbody tr th {\n",
       "        vertical-align: top;\n",
       "    }\n",
       "\n",
       "    .dataframe thead th {\n",
       "        text-align: right;\n",
       "    }\n",
       "</style>\n",
       "<table border=\"1\" class=\"dataframe\">\n",
       "  <thead>\n",
       "    <tr style=\"text-align: right;\">\n",
       "      <th></th>\n",
       "      <th>0</th>\n",
       "      <th>1</th>\n",
       "      <th>2</th>\n",
       "      <th>3</th>\n",
       "      <th>4</th>\n",
       "      <th>5</th>\n",
       "      <th>6</th>\n",
       "      <th>7</th>\n",
       "      <th>8</th>\n",
       "      <th>9</th>\n",
       "      <th>10</th>\n",
       "      <th>11</th>\n",
       "      <th>12</th>\n",
       "      <th>13</th>\n",
       "      <th>14</th>\n",
       "      <th>15</th>\n",
       "      <th>16</th>\n",
       "      <th>17</th>\n",
       "      <th>18</th>\n",
       "      <th>19</th>\n",
       "    </tr>\n",
       "  </thead>\n",
       "  <tbody>\n",
       "    <tr>\n",
       "      <th>0</th>\n",
       "      <td>6.086858</td>\n",
       "      <td>3.271767</td>\n",
       "      <td>-2.003814</td>\n",
       "      <td>3.591244</td>\n",
       "      <td>-0.179017</td>\n",
       "      <td>-0.757221</td>\n",
       "      <td>0.964206</td>\n",
       "      <td>0.741693</td>\n",
       "      <td>-0.955241</td>\n",
       "      <td>-0.767964</td>\n",
       "      <td>-0.309325</td>\n",
       "      <td>0.482750</td>\n",
       "      <td>-0.496858</td>\n",
       "      <td>0.325223</td>\n",
       "      <td>-0.161018</td>\n",
       "      <td>-0.489037</td>\n",
       "      <td>0.606493</td>\n",
       "      <td>-0.914635</td>\n",
       "      <td>0.051420</td>\n",
       "      <td>0.022161</td>\n",
       "    </tr>\n",
       "    <tr>\n",
       "      <th>1</th>\n",
       "      <td>1.136167</td>\n",
       "      <td>-0.984795</td>\n",
       "      <td>-1.087709</td>\n",
       "      <td>2.977276</td>\n",
       "      <td>2.427468</td>\n",
       "      <td>-0.054274</td>\n",
       "      <td>0.466266</td>\n",
       "      <td>0.619373</td>\n",
       "      <td>1.683272</td>\n",
       "      <td>1.260376</td>\n",
       "      <td>0.348382</td>\n",
       "      <td>0.067150</td>\n",
       "      <td>0.723855</td>\n",
       "      <td>-0.902867</td>\n",
       "      <td>-0.548124</td>\n",
       "      <td>0.602567</td>\n",
       "      <td>0.028022</td>\n",
       "      <td>0.194574</td>\n",
       "      <td>-0.110804</td>\n",
       "      <td>0.103688</td>\n",
       "    </tr>\n",
       "    <tr>\n",
       "      <th>2</th>\n",
       "      <td>2.647254</td>\n",
       "      <td>11.650706</td>\n",
       "      <td>-0.349361</td>\n",
       "      <td>1.556373</td>\n",
       "      <td>1.426580</td>\n",
       "      <td>-2.207812</td>\n",
       "      <td>0.531875</td>\n",
       "      <td>0.357340</td>\n",
       "      <td>-0.386985</td>\n",
       "      <td>1.475163</td>\n",
       "      <td>-0.885290</td>\n",
       "      <td>0.551791</td>\n",
       "      <td>0.496626</td>\n",
       "      <td>-0.857188</td>\n",
       "      <td>1.971517</td>\n",
       "      <td>0.005449</td>\n",
       "      <td>0.753283</td>\n",
       "      <td>0.113817</td>\n",
       "      <td>0.004847</td>\n",
       "      <td>-0.050436</td>\n",
       "    </tr>\n",
       "    <tr>\n",
       "      <th>3</th>\n",
       "      <td>1.415699</td>\n",
       "      <td>-1.844383</td>\n",
       "      <td>1.036566</td>\n",
       "      <td>2.697808</td>\n",
       "      <td>-1.284598</td>\n",
       "      <td>1.927825</td>\n",
       "      <td>0.226706</td>\n",
       "      <td>-0.675204</td>\n",
       "      <td>0.695421</td>\n",
       "      <td>-0.600152</td>\n",
       "      <td>-0.407085</td>\n",
       "      <td>0.391352</td>\n",
       "      <td>0.539761</td>\n",
       "      <td>0.360804</td>\n",
       "      <td>-0.263567</td>\n",
       "      <td>0.505441</td>\n",
       "      <td>0.469504</td>\n",
       "      <td>0.056794</td>\n",
       "      <td>-0.068824</td>\n",
       "      <td>0.219345</td>\n",
       "    </tr>\n",
       "    <tr>\n",
       "      <th>4</th>\n",
       "      <td>-1.789060</td>\n",
       "      <td>4.050185</td>\n",
       "      <td>-0.375434</td>\n",
       "      <td>2.044271</td>\n",
       "      <td>-1.427655</td>\n",
       "      <td>0.553821</td>\n",
       "      <td>0.193469</td>\n",
       "      <td>0.096801</td>\n",
       "      <td>-0.050696</td>\n",
       "      <td>-0.439885</td>\n",
       "      <td>-0.176191</td>\n",
       "      <td>0.001694</td>\n",
       "      <td>-0.187250</td>\n",
       "      <td>0.601064</td>\n",
       "      <td>0.125686</td>\n",
       "      <td>0.422338</td>\n",
       "      <td>0.073178</td>\n",
       "      <td>0.095825</td>\n",
       "      <td>0.103864</td>\n",
       "      <td>0.037351</td>\n",
       "    </tr>\n",
       "  </tbody>\n",
       "</table>\n",
       "</div>"
      ],
      "text/plain": [
       "         0          1         2         3         4         5         6   \\\n",
       "0  6.086858   3.271767 -2.003814  3.591244 -0.179017 -0.757221  0.964206   \n",
       "1  1.136167  -0.984795 -1.087709  2.977276  2.427468 -0.054274  0.466266   \n",
       "2  2.647254  11.650706 -0.349361  1.556373  1.426580 -2.207812  0.531875   \n",
       "3  1.415699  -1.844383  1.036566  2.697808 -1.284598  1.927825  0.226706   \n",
       "4 -1.789060   4.050185 -0.375434  2.044271 -1.427655  0.553821  0.193469   \n",
       "\n",
       "         7         8         9         10        11        12        13  \\\n",
       "0  0.741693 -0.955241 -0.767964 -0.309325  0.482750 -0.496858  0.325223   \n",
       "1  0.619373  1.683272  1.260376  0.348382  0.067150  0.723855 -0.902867   \n",
       "2  0.357340 -0.386985  1.475163 -0.885290  0.551791  0.496626 -0.857188   \n",
       "3 -0.675204  0.695421 -0.600152 -0.407085  0.391352  0.539761  0.360804   \n",
       "4  0.096801 -0.050696 -0.439885 -0.176191  0.001694 -0.187250  0.601064   \n",
       "\n",
       "         14        15        16        17        18        19  \n",
       "0 -0.161018 -0.489037  0.606493 -0.914635  0.051420  0.022161  \n",
       "1 -0.548124  0.602567  0.028022  0.194574 -0.110804  0.103688  \n",
       "2  1.971517  0.005449  0.753283  0.113817  0.004847 -0.050436  \n",
       "3 -0.263567  0.505441  0.469504  0.056794 -0.068824  0.219345  \n",
       "4  0.125686  0.422338  0.073178  0.095825  0.103864  0.037351  "
      ]
     },
     "execution_count": 23,
     "metadata": {},
     "output_type": "execute_result"
    }
   ],
   "source": [
    "#Ver los primeros valores\n",
    "cancer.head()"
   ]
  },
  {
   "cell_type": "code",
   "execution_count": 24,
   "metadata": {},
   "outputs": [
    {
     "data": {
      "text/plain": [
       "(197, 20)"
      ]
     },
     "execution_count": 24,
     "metadata": {},
     "output_type": "execute_result"
    }
   ],
   "source": [
    "#Vemos el formato logrado\n",
    "cancer.shape"
   ]
  },
  {
   "cell_type": "markdown",
   "metadata": {},
   "source": [
    "#### <font color=red> Pasamos de un dataframe de 33 columnas a 20 columnas sin perder ningún dato"
   ]
  }
 ],
 "metadata": {
  "kernelspec": {
   "display_name": "Python 3",
   "language": "python",
   "name": "python3"
  },
  "language_info": {
   "codemirror_mode": {
    "name": "ipython",
    "version": 3
   },
   "file_extension": ".py",
   "mimetype": "text/x-python",
   "name": "python",
   "nbconvert_exporter": "python",
   "pygments_lexer": "ipython3",
   "version": "3.7.3"
  }
 },
 "nbformat": 4,
 "nbformat_minor": 2
}
